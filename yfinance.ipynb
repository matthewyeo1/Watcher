{
 "cells": [
  {
   "cell_type": "code",
   "execution_count": 2,
   "metadata": {},
   "outputs": [
    {
     "name": "stderr",
     "output_type": "stream",
     "text": [
      "$005930.KQ: possibly delisted; no price data found  (period=1d)\n"
     ]
    },
    {
     "name": "stdout",
     "output_type": "stream",
     "text": [
      "APPLE: $237.38\n",
      "TESLA: $281.96\n",
      "NVIDIA: $120.01\n",
      "AMAZON: $208.82\n",
      "MICROSOFT: $392.58\n",
      "META: $658.18\n",
      "ALIBABA: $136.65\n",
      "TENCENT: $478.60\n",
      "INTEL: $23.08\n",
      "HP: $33.17\n"
     ]
    },
    {
     "name": "stderr",
     "output_type": "stream",
     "text": [
      "C:\\Users\\user\\AppData\\Local\\Temp\\ipykernel_45424\\3422955305.py:62: UserWarning: frames=None which we can infer the length of, did not pass an explicit *save_count* and passed cache_frame_data=True.  To avoid a possibly unbounded cache, frame data caching has been disabled. To suppress this warning either pass `cache_frame_data=False` or `save_count=MAX_FRAMES`.\n",
      "  ani = animation.FuncAnimation(fig, update_graph, interval=5000)\n",
      "C:\\Users\\user\\AppData\\Roaming\\Python\\Python312\\site-packages\\matplotlib\\animation.py:908: UserWarning: Animation was deleted without rendering anything. This is most likely not intended. To prevent deletion, assign the Animation to a variable, e.g. `anim`, that exists until you output the Animation using `plt.show()` or `anim.save()`.\n",
      "  warnings.warn(\n"
     ]
    },
    {
     "data": {
      "image/png": "[encoded data removed]",
      "text/plain": [
       "<Figure size 1200x600 with 1 Axes>"
      ]
     },
     "metadata": {},
     "output_type": "display_data"
    }
   ],
   "source": [
    "import yfinance as yf\n",
    "import matplotlib.pyplot as plt\n",
    "import matplotlib.animation as animation\n",
    "from enum import Enum\n",
    "from collections import deque\n",
    "\n",
    "# Enum for stock names and tickers\n",
    "class Stock(Enum):\n",
    "    APPLE = \"AAPL\"\n",
    "    SAMSUNG = \"005930.KQ\"\n",
    "    TESLA = \"TSLA\"\n",
    "    NVIDIA = \"NVDA\"\n",
    "    AMAZON = \"AMZN\"\n",
    "    MICROSOFT = \"MSFT\"\n",
    "    META = \"META\"\n",
    "    ALIBABA = \"BABA\"\n",
    "    TENCENT = \"0700.HK\"\n",
    "    HUAWEI = None  # No ticker for Huawei\n",
    "    INTEL = \"INTC\"\n",
    "    HP = \"HPQ\"\n",
    "\n",
    "# Filter out stocks without tickers\n",
    "stock_tickers = {stock.name: stock.value for stock in Stock if stock.value}\n",
    "\n",
    "# Store recent prices for plotting (limit to last 50 points per stock)\n",
    "price_data = {stock: deque(maxlen=50) for stock in stock_tickers}\n",
    "\n",
    "# Initialize figure\n",
    "fig, ax = plt.subplots(figsize=(12, 6))\n",
    "\n",
    "def fetch_stock_prices():\n",
    "    \"\"\"Fetch real-time stock prices from Yahoo Finance.\"\"\"\n",
    "    for stock, ticker in stock_tickers.items():\n",
    "        try:\n",
    "            data = yf.Ticker(ticker).history(period=\"1d\", interval=\"1m\")  # 1-minute interval\n",
    "            if not data.empty:\n",
    "                latest_price = data[\"Close\"].iloc[-1]  # Get the latest price\n",
    "                price_data[stock].append(latest_price)\n",
    "                print(f\"{stock}: ${latest_price:.2f}\")  # Debug print\n",
    "        except Exception as e:\n",
    "            print(f\"Error fetching {stock} ({ticker}): {e}\")\n",
    "\n",
    "def update_graph(frame):\n",
    "    \"\"\"Update the graph with the latest stock prices.\"\"\"\n",
    "    fetch_stock_prices()  # Fetch data before updating plot\n",
    "    ax.clear()  # Clear previous plot\n",
    "\n",
    "    for stock, prices in price_data.items():\n",
    "        if prices:  # Ensure there's data to plot\n",
    "            ax.plot(list(prices), label=stock)\n",
    "\n",
    "    ax.set_title(\"Live Stock Prices (1-Min Interval)\")\n",
    "    ax.set_xlabel(\"Time\")\n",
    "    ax.set_ylabel(\"Price (USD)\")\n",
    "    ax.legend()\n",
    "    ax.grid()\n",
    "\n",
    "# Fetch initial data so the graph isn't empty\n",
    "fetch_stock_prices()\n",
    "\n",
    "# Set up real-time animation (update every 5000ms = 5 seconds)\n",
    "ani = animation.FuncAnimation(fig, update_graph, interval=5000)\n",
    "\n",
    "plt.show()\n"
   ]
  },
  {
   "cell_type": "code",
   "execution_count": 3,
   "metadata": {},
   "outputs": [
    {
     "name": "stderr",
     "output_type": "stream",
     "text": [
      "$005930.KQ: possibly delisted; no price data found  (period=1d)\n"
     ]
    },
    {
     "name": "stdout",
     "output_type": "stream",
     "text": [
      "\n",
      "--- Live Stock Prices ---\n",
      "APPLE: $237.38\n",
      "SAMSUNG: No data available\n",
      "TESLA: $281.96\n",
      "NVIDIA: $120.01\n",
      "AMAZON: $208.82\n",
      "MICROSOFT: $392.58\n",
      "META: $658.18\n",
      "ALIBABA: $136.65\n",
      "TENCENT: $478.60\n",
      "INTEL: $23.08\n",
      "HP: $33.17\n",
      "\n",
      "Updating in 5 seconds...\n",
      "\n"
     ]
    },
    {
     "name": "stderr",
     "output_type": "stream",
     "text": [
      "$005930.KQ: possibly delisted; no price data found  (period=1d)\n"
     ]
    },
    {
     "name": "stdout",
     "output_type": "stream",
     "text": [
      "\n",
      "--- Live Stock Prices ---\n",
      "APPLE: $237.38\n",
      "SAMSUNG: No data available\n",
      "TESLA: $281.96\n",
      "NVIDIA: $120.01\n",
      "AMAZON: $208.82\n",
      "MICROSOFT: $392.58\n",
      "META: $658.18\n",
      "ALIBABA: $136.65\n",
      "TENCENT: $478.60\n",
      "INTEL: $23.08\n",
      "HP: $33.17\n",
      "\n",
      "Updating in 5 seconds...\n",
      "\n"
     ]
    },
    {
     "name": "stderr",
     "output_type": "stream",
     "text": [
      "$005930.KQ: possibly delisted; no price data found  (period=1d)\n"
     ]
    },
    {
     "name": "stdout",
     "output_type": "stream",
     "text": [
      "\n",
      "--- Live Stock Prices ---\n",
      "APPLE: $237.38\n",
      "SAMSUNG: No data available\n",
      "TESLA: $281.96\n",
      "NVIDIA: $120.01\n",
      "AMAZON: $208.82\n",
      "MICROSOFT: $392.58\n",
      "META: $658.18\n",
      "ALIBABA: $136.65\n",
      "TENCENT: $478.60\n",
      "INTEL: $23.08\n",
      "HP: $33.17\n",
      "\n",
      "Updating in 5 seconds...\n",
      "\n"
     ]
    },
    {
     "name": "stderr",
     "output_type": "stream",
     "text": [
      "$005930.KQ: possibly delisted; no price data found  (period=1d)\n"
     ]
    },
    {
     "name": "stdout",
     "output_type": "stream",
     "text": [
      "\n",
      "--- Live Stock Prices ---\n",
      "APPLE: $237.38\n",
      "SAMSUNG: No data available\n",
      "TESLA: $281.96\n",
      "NVIDIA: $120.01\n",
      "AMAZON: $208.82\n",
      "MICROSOFT: $392.58\n",
      "META: $658.18\n",
      "ALIBABA: $136.65\n",
      "TENCENT: $478.60\n",
      "INTEL: $23.08\n",
      "HP: $33.17\n",
      "\n",
      "Updating in 5 seconds...\n",
      "\n"
     ]
    },
    {
     "name": "stderr",
     "output_type": "stream",
     "text": [
      "$005930.KQ: possibly delisted; no price data found  (period=1d)\n"
     ]
    },
    {
     "name": "stdout",
     "output_type": "stream",
     "text": [
      "\n",
      "--- Live Stock Prices ---\n",
      "APPLE: $237.38\n",
      "SAMSUNG: No data available\n",
      "TESLA: $281.96\n",
      "NVIDIA: $120.01\n",
      "AMAZON: $208.82\n",
      "MICROSOFT: $392.58\n",
      "META: $658.18\n",
      "ALIBABA: $136.65\n",
      "TENCENT: $478.60\n",
      "INTEL: $23.08\n",
      "HP: $33.17\n",
      "\n",
      "Updating in 5 seconds...\n",
      "\n"
     ]
    },
    {
     "name": "stderr",
     "output_type": "stream",
     "text": [
      "$005930.KQ: possibly delisted; no price data found  (period=1d)\n"
     ]
    },
    {
     "name": "stdout",
     "output_type": "stream",
     "text": [
      "\n",
      "--- Live Stock Prices ---\n",
      "APPLE: $237.38\n",
      "SAMSUNG: No data available\n",
      "TESLA: $281.96\n",
      "NVIDIA: $120.01\n",
      "AMAZON: $208.82\n",
      "MICROSOFT: $392.58\n",
      "META: $658.18\n",
      "ALIBABA: $136.65\n",
      "TENCENT: $478.60\n",
      "INTEL: $23.08\n",
      "HP: $33.17\n",
      "\n",
      "Updating in 5 seconds...\n",
      "\n"
     ]
    },
    {
     "name": "stderr",
     "output_type": "stream",
     "text": [
      "$005930.KQ: possibly delisted; no price data found  (period=1d)\n"
     ]
    },
    {
     "name": "stdout",
     "output_type": "stream",
     "text": [
      "\n",
      "--- Live Stock Prices ---\n",
      "APPLE: $237.38\n",
      "SAMSUNG: No data available\n",
      "TESLA: $281.96\n",
      "NVIDIA: $120.01\n",
      "AMAZON: $208.82\n",
      "MICROSOFT: $392.58\n",
      "META: $658.18\n",
      "ALIBABA: $136.65\n",
      "TENCENT: $478.60\n",
      "INTEL: $23.08\n",
      "HP: $33.17\n",
      "\n",
      "Updating in 5 seconds...\n",
      "\n"
     ]
    },
    {
     "name": "stderr",
     "output_type": "stream",
     "text": [
      "$005930.KQ: possibly delisted; no price data found  (period=1d)\n"
     ]
    },
    {
     "name": "stdout",
     "output_type": "stream",
     "text": [
      "\n",
      "--- Live Stock Prices ---\n",
      "APPLE: $237.38\n",
      "SAMSUNG: No data available\n",
      "TESLA: $281.96\n",
      "NVIDIA: $120.01\n",
      "AMAZON: $208.82\n",
      "MICROSOFT: $392.58\n",
      "META: $658.18\n",
      "ALIBABA: $136.65\n",
      "TENCENT: $478.60\n",
      "INTEL: $23.08\n",
      "HP: $33.17\n",
      "\n",
      "Updating in 5 seconds...\n",
      "\n"
     ]
    },
    {
     "name": "stderr",
     "output_type": "stream",
     "text": [
      "$005930.KQ: possibly delisted; no price data found  (period=1d)\n"
     ]
    },
    {
     "name": "stdout",
     "output_type": "stream",
     "text": [
      "\n",
      "--- Live Stock Prices ---\n",
      "APPLE: $237.38\n",
      "SAMSUNG: No data available\n",
      "TESLA: $281.96\n",
      "NVIDIA: $120.01\n",
      "AMAZON: $208.82\n",
      "MICROSOFT: $392.58\n",
      "META: $658.18\n",
      "ALIBABA: $136.65\n",
      "TENCENT: $478.60\n",
      "INTEL: $23.08\n",
      "HP: $33.17\n",
      "\n",
      "Updating in 5 seconds...\n",
      "\n"
     ]
    },
    {
     "name": "stderr",
     "output_type": "stream",
     "text": [
      "$005930.KQ: possibly delisted; no price data found  (period=1d)\n"
     ]
    },
    {
     "name": "stdout",
     "output_type": "stream",
     "text": [
      "\n",
      "--- Live Stock Prices ---\n",
      "APPLE: $237.38\n",
      "SAMSUNG: No data available\n",
      "TESLA: $281.96\n",
      "NVIDIA: $120.01\n",
      "AMAZON: $208.82\n",
      "MICROSOFT: $392.58\n",
      "META: $658.18\n",
      "ALIBABA: $136.65\n",
      "TENCENT: $478.60\n",
      "INTEL: $23.08\n",
      "HP: $33.17\n",
      "\n",
      "Updating in 5 seconds...\n",
      "\n"
     ]
    },
    {
     "name": "stderr",
     "output_type": "stream",
     "text": [
      "$005930.KQ: possibly delisted; no price data found  (period=1d)\n"
     ]
    },
    {
     "name": "stdout",
     "output_type": "stream",
     "text": [
      "\n",
      "--- Live Stock Prices ---\n",
      "APPLE: $237.38\n",
      "SAMSUNG: No data available\n",
      "TESLA: $281.96\n",
      "NVIDIA: $120.01\n",
      "AMAZON: $208.82\n",
      "MICROSOFT: $392.58\n",
      "META: $658.18\n",
      "ALIBABA: $136.65\n",
      "TENCENT: $478.60\n",
      "INTEL: $23.08\n",
      "HP: $33.17\n",
      "\n",
      "Updating in 5 seconds...\n",
      "\n"
     ]
    },
    {
     "ename": "KeyboardInterrupt",
     "evalue": "",
     "output_type": "error",
     "traceback": [
      "\u001b[1;31m---------------------------------------------------------------------------\u001b[0m",
      "\u001b[1;31mKeyboardInterrupt\u001b[0m                         Traceback (most recent call last)",
      "Cell \u001b[1;32mIn[3], line 42\u001b[0m\n\u001b[0;32m     39\u001b[0m         time\u001b[38;5;241m.\u001b[39msleep(\u001b[38;5;241m5\u001b[39m)  \u001b[38;5;66;03m# Wait 5 seconds before fetching again\u001b[39;00m\n\u001b[0;32m     41\u001b[0m \u001b[38;5;66;03m# Run the function in an infinite loop\u001b[39;00m\n\u001b[1;32m---> 42\u001b[0m \u001b[43mfetch_stock_prices\u001b[49m\u001b[43m(\u001b[49m\u001b[43m)\u001b[49m\n",
      "Cell \u001b[1;32mIn[3], line 39\u001b[0m, in \u001b[0;36mfetch_stock_prices\u001b[1;34m()\u001b[0m\n\u001b[0;32m     36\u001b[0m         \u001b[38;5;28mprint\u001b[39m(\u001b[38;5;124mf\u001b[39m\u001b[38;5;124m\"\u001b[39m\u001b[38;5;124mError fetching \u001b[39m\u001b[38;5;132;01m{\u001b[39;00mstock\u001b[38;5;132;01m}\u001b[39;00m\u001b[38;5;124m (\u001b[39m\u001b[38;5;132;01m{\u001b[39;00mticker\u001b[38;5;132;01m}\u001b[39;00m\u001b[38;5;124m): \u001b[39m\u001b[38;5;132;01m{\u001b[39;00me\u001b[38;5;132;01m}\u001b[39;00m\u001b[38;5;124m\"\u001b[39m)\n\u001b[0;32m     38\u001b[0m \u001b[38;5;28mprint\u001b[39m(\u001b[38;5;124m\"\u001b[39m\u001b[38;5;130;01m\\n\u001b[39;00m\u001b[38;5;124mUpdating in 5 seconds...\u001b[39m\u001b[38;5;130;01m\\n\u001b[39;00m\u001b[38;5;124m\"\u001b[39m)\n\u001b[1;32m---> 39\u001b[0m \u001b[43mtime\u001b[49m\u001b[38;5;241;43m.\u001b[39;49m\u001b[43msleep\u001b[49m\u001b[43m(\u001b[49m\u001b[38;5;241;43m5\u001b[39;49m\u001b[43m)\u001b[49m\n",
      "\u001b[1;31mKeyboardInterrupt\u001b[0m: "
     ]
    }
   ],
   "source": [
    "import yfinance as yf\n",
    "import time\n",
    "from enum import Enum\n",
    "\n",
    "# Enum for stock names and tickers\n",
    "class Stock(Enum):\n",
    "    APPLE = \"AAPL\"\n",
    "    TESLA = \"TSLA\"\n",
    "    NVIDIA = \"NVDA\"\n",
    "    AMAZON = \"AMZN\"\n",
    "    MICROSOFT = \"MSFT\"\n",
    "    META = \"META\"\n",
    "    ALIBABA = \"BABA\"\n",
    "    TENCENT = \"0700.HK\"\n",
    "    HUAWEI = None  # No ticker for Huawei\n",
    "    INTEL = \"INTC\"\n",
    "    HP = \"HPQ\"\n",
    "\n",
    "# Filter out stocks without tickers\n",
    "stock_tickers = {stock.name: stock.value for stock in Stock if stock.value}\n",
    "\n",
    "def fetch_stock_prices():\n",
    "    \"\"\"Fetch real-time stock prices from Yahoo Finance and display them.\"\"\"\n",
    "    while True:\n",
    "        print(\"\\n--- Live Stock Prices ---\")\n",
    "        for stock, ticker in stock_tickers.items():\n",
    "            try:\n",
    "                data = yf.Ticker(ticker).history(period=\"1d\", interval=\"1m\")  # 1-minute interval\n",
    "                if not data.empty:\n",
    "                    latest_price = data[\"Close\"].iloc[-1]  # Get the latest price\n",
    "                    print(f\"{stock}: ${latest_price:.2f}\")\n",
    "                else:\n",
    "                    print(f\"{stock}: No data available\")\n",
    "            except Exception as e:\n",
    "                print(f\"Error fetching {stock} ({ticker}): {e}\")\n",
    "\n",
    "        print(\"\\nUpdating in 5 seconds...\\n\")\n",
    "        time.sleep(5)  # Wait 5 seconds before fetching again\n",
    "\n",
    "# Run the function in an infinite loop\n",
    "fetch_stock_prices()\n"
   ]
  }
 ],
 "metadata": {
  "kernelspec": {
   "display_name": "Python 3",
   "language": "python",
   "name": "python3"
  },
  "language_info": {
   "codemirror_mode": {
    "name": "ipython",
    "version": 3
   },
   "file_extension": ".py",
   "mimetype": "text/x-python",
   "name": "python",
   "nbconvert_exporter": "python",
   "pygments_lexer": "ipython3",
   "version": "3.12.3"
  }
 },
 "nbformat": 4,
 "nbformat_minor": 2
}
