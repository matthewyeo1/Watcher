{
 "cells": [
  {
   "cell_type": "code",
   "execution_count": null,
   "metadata": {
    "vscode": {
     "languageId": "plaintext"
    }
   },
   "outputs": [],
   "source": [
    "import yfinance as yf\n",
    "import pandas as pd\n",
    "from datetime import datetime, timedelta\n",
    "\n",
    "# Define the stock symbol\n",
    "ticker = \"AAPL\"\n",
    "\n",
    "# Get yesterday's date\n",
    "yesterday = (datetime.today() - timedelta(days=1)).strftime('%Y-%m-%d')\n",
    "\n",
    "# Fetch 10-minute interval data\n",
    "data = yf.download(ticker, interval=\"10m\", start=yesterday, end=datetime.today().strftime('%Y-%m-%d'))\n",
    "\n",
    "# Display the first few rows\n",
    "print(data.head())"
   ]
  }
 ],
 "metadata": {
  "language_info": {
   "name": "python"
  }
 },
 "nbformat": 4,
 "nbformat_minor": 2
}
